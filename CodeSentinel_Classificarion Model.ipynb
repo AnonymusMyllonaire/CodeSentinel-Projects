{
 "cells": [
  {
   "cell_type": "markdown",
   "id": "0b240458",
   "metadata": {},
   "source": [
    "# 🚢 Titanic Survival Prediction with Multiple Models"
   ]
  },
  {
   "cell_type": "code",
   "execution_count": null,
   "id": "aeb9c433",
   "metadata": {},
   "outputs": [],
   "source": [
    "# 1. Import Libraries\n",
    "import numpy as np\n",
    "import pandas as pd\n",
    "import matplotlib.pyplot as plt\n",
    "import seaborn as sns\n",
    "\n",
    "from sklearn.model_selection import train_test_split\n",
    "from sklearn.preprocessing import StandardScaler, LabelEncoder\n",
    "from sklearn.metrics import accuracy_score, confusion_matrix, classification_report\n",
    "\n",
    "from sklearn.linear_model import LogisticRegression\n",
    "from sklearn.tree import DecisionTreeClassifier\n",
    "from sklearn.neighbors import KNeighborsClassifier"
   ]
  },
  {
   "cell_type": "code",
   "execution_count": null,
   "id": "3e5e334c",
   "metadata": {},
   "outputs": [],
   "source": [
    "# 2. Load Dataset (from seaborn)\n",
    "titanic = sns.load_dataset(\"titanic\")\n",
    "print(titanic.head())"
   ]
  },
  {
   "cell_type": "code",
   "execution_count": null,
   "id": "bfff54fa",
   "metadata": {},
   "outputs": [],
   "source": [
    "# 3. Data Preprocessing\n",
    "# ----------------------\n",
    "# Select relevant features\n",
    "data = titanic[[\"survived\", \"pclass\", \"sex\", \"age\", \"sibsp\", \"parch\", \"fare\", \"embarked\"]]\n",
    "\n",
    "# Handle missing values\n",
    "data[\"age\"].fillna(data[\"age\"].median(), inplace=True)\n",
    "data[\"embarked\"].fillna(data[\"embarked\"].mode()[0], inplace=True)\n",
    "\n",
    "# Encode categorical variables\n",
    "le_sex = LabelEncoder()\n",
    "data[\"sex\"] = le_sex.fit_transform(data[\"sex\"])  # male=1, female=0\n",
    "\n",
    "le_embarked = LabelEncoder()\n",
    "data[\"embarked\"] = le_embarked.fit_transform(data[\"embarked\"])\n",
    "\n",
    "# Features & Target\n",
    "X = data.drop(\"survived\", axis=1)\n",
    "y = data[\"survived\"]\n",
    "\n",
    "# Train-Test Split\n",
    "X_train, X_test, y_train, y_test = train_test_split(\n",
    "    X, y, test_size=0.2, random_state=42\n",
    ")\n",
    "\n",
    "# Scaling\n",
    "scaler = StandardScaler()\n",
    "X_train_scaled = scaler.fit_transform(X_train)\n",
    "X_test_scaled = scaler.transform(X_test)"
   ]
  },
  {
   "cell_type": "code",
   "execution_count": null,
   "id": "a08363f4",
   "metadata": {},
   "outputs": [],
   "source": [
    "# 4. Train Multiple Models\n",
    "models = {\n",
    "    \"Logistic Regression\": LogisticRegression(max_iter=200),\n",
    "    \"Decision Tree\": DecisionTreeClassifier(random_state=42),\n",
    "    \"KNN (k=5)\": KNeighborsClassifier(n_neighbors=5)\n",
    "}\n",
    "\n",
    "results = {}\n",
    "for name, model in models.items():\n",
    "    model.fit(X_train_scaled, y_train)\n",
    "    y_pred = model.predict(X_test_scaled)\n",
    "    \n",
    "    acc = accuracy_score(y_test, y_pred)\n",
    "    results[name] = acc\n",
    "    \n",
    "    print(f\"\\n🔹 {name} Results:\")\n",
    "    print(\"Accuracy:\", acc)\n",
    "    print(\"Classification Report:\\n\", classification_report(y_test, y_pred))\n",
    "    \n",
    "    # Confusion Matrix\n",
    "    cm = confusion_matrix(y_test, y_pred)\n",
    "    sns.heatmap(cm, annot=True, fmt=\"d\", cmap=\"Blues\", xticklabels=[\"Died\",\"Survived\"], yticklabels=[\"Died\",\"Survived\"])\n",
    "    plt.title(f\"{name} - Confusion Matrix\")\n",
    "    plt.xlabel(\"Predicted\")\n",
    "    plt.ylabel(\"Actual\")\n",
    "    plt.show()\n",
    "    plt.clf() "
   ]
  },
  {
   "cell_type": "code",
   "execution_count": null,
   "id": "61a87211-cb3e-4ecc-a5fb-ae40dc502b9f",
   "metadata": {},
   "outputs": [],
   "source": [
    "# 5. Compare Models\n",
    "plt.figure(figsize=(6,4))\n",
    "plt.bar(results.keys(), results.values(), color=['skyblue','lightgreen','salmon'])\n",
    "plt.ylabel(\"Accuracy\")\n",
    "plt.title(\"Model Comparison - Accuracy\")\n",
    "plt.ylim(0,1)\n",
    "plt.show()\n",
    "plt.clf() \n"
   ]
  }
 ],
 "metadata": {
  "kernelspec": {
   "display_name": "Python 3 (ipykernel)",
   "language": "python",
   "name": "python3"
  },
  "language_info": {
   "codemirror_mode": {
    "name": "ipython",
    "version": 3
   },
   "file_extension": ".py",
   "mimetype": "text/x-python",
   "name": "python",
   "nbconvert_exporter": "python",
   "pygments_lexer": "ipython3",
   "version": "3.13.5"
  }
 },
 "nbformat": 4,
 "nbformat_minor": 5
}
